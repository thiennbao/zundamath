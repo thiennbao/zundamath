{
 "cells": [
  {
   "cell_type": "code",
   "execution_count": 1,
   "metadata": {
    "_cell_guid": "b1076dfc-b9ad-4769-8c92-a6c4dae69d19",
    "_uuid": "8f2839f25d086af736a60e9eeb907d3b93b6e0e5",
    "execution": {
     "iopub.execute_input": "2025-01-04T02:00:27.592959Z",
     "iopub.status.busy": "2025-01-04T02:00:27.592712Z",
     "iopub.status.idle": "2025-01-04T02:02:02.181640Z",
     "shell.execute_reply": "2025-01-04T02:02:02.180416Z",
     "shell.execute_reply.started": "2025-01-04T02:00:27.592937Z"
    },
    "trusted": true
   },
   "outputs": [],
   "source": [
    "# Install requirements\n",
    "\n",
    "!pip install llama-index\n",
    "!pip install sentence-transformers\n",
    "!pip install llama-index-llms-huggingface\n",
    "!pip install llama-index-embeddings-huggingface\n",
    "!pip install llama-index-readers-json\n",
    "!pip install llama-index-vector-stores-milvus\n",
    "!pip install pymilvus\n",
    "!pip install accelerate\n",
    "!pip install bitsandbytes\n",
    "!pip install llama-index-llms-groq\n",
    "!pip install FlagEmbedding\n",
    "!pip install peft\n",
    "!pip install datasets\n",
    "!pip install transformers\n",
    "!pip install loralib\n",
    "!pip install einops\n",
    "!pip install huggingface_hub\n",
    "!pip install googletrans==3.1.0a0\n",
    "!pip install rouge\n",
    "\n",
    "from IPython.display import clear_output\n",
    "clear_output()"
   ]
  },
  {
   "cell_type": "code",
   "execution_count": 2,
   "metadata": {
    "execution": {
     "iopub.execute_input": "2025-01-04T02:02:02.183261Z",
     "iopub.status.busy": "2025-01-04T02:02:02.182907Z",
     "iopub.status.idle": "2025-01-04T02:02:07.131506Z",
     "shell.execute_reply": "2025-01-04T02:02:07.130762Z",
     "shell.execute_reply.started": "2025-01-04T02:02:02.183227Z"
    },
    "trusted": true
   },
   "outputs": [],
   "source": [
    "import os\n",
    "import shutil\n",
    "import transformers\n",
    "from googletrans import Translator\n",
    "from datasets import load_dataset, Dataset\n",
    "import torch\n",
    "from transformers import AutoModelForCausalLM, AutoTokenizer, BitsAndBytesConfig, GenerationConfig\n",
    "from huggingface_hub.hf_api import HfFolder"
   ]
  },
  {
   "cell_type": "code",
   "execution_count": 3,
   "metadata": {
    "execution": {
     "iopub.execute_input": "2025-01-04T02:02:07.132820Z",
     "iopub.status.busy": "2025-01-04T02:02:07.132359Z",
     "iopub.status.idle": "2025-01-04T02:05:41.063508Z",
     "shell.execute_reply": "2025-01-04T02:05:41.062759Z",
     "shell.execute_reply.started": "2025-01-04T02:02:07.132797Z"
    },
    "trusted": true
   },
   "outputs": [
    {
     "data": {
      "application/vnd.jupyter.widget-view+json": {
       "model_id": "1295db5bce9542818d45d961bd7e9d14",
       "version_major": 2,
       "version_minor": 0
      },
      "text/plain": [
       "Downloading readme:   0%|          | 0.00/6.91k [00:00<?, ?B/s]"
      ]
     },
     "metadata": {},
     "output_type": "display_data"
    },
    {
     "data": {
      "application/vnd.jupyter.widget-view+json": {
       "model_id": "b0a469c041fa4e609a7492d0352ca9fd",
       "version_major": 2,
       "version_minor": 0
      },
      "text/plain": [
       "Downloading data:   0%|          | 0.00/84.2M [00:00<?, ?B/s]"
      ]
     },
     "metadata": {},
     "output_type": "display_data"
    },
    {
     "data": {
      "application/vnd.jupyter.widget-view+json": {
       "model_id": "6a60f258bc904ae7af892ae59fc819b4",
       "version_major": 2,
       "version_minor": 0
      },
      "text/plain": [
       "Generating train split:   0%|          | 0/200035 [00:00<?, ? examples/s]"
      ]
     },
     "metadata": {},
     "output_type": "display_data"
    }
   ],
   "source": [
    "raw_data = load_dataset(\"microsoft/orca-math-word-problems-200k\")['train'][20000:21000]\n",
    "question = raw_data['question']\n",
    "answer = raw_data['answer']\n",
    "\n",
    "for i in range(500):\n",
    "    question[i] = question[i].replace('\\n\\n', ' ').replace('\\n', ' ')\n",
    "    answer[i] = answer[i].replace('\\n\\n', ' ').replace('\\n', ' ')\n",
    "\n",
    "translator = Translator()\n",
    "\n",
    "translated_questions = [translator.translate(q, src='en', dest='vi').text for q in question]\n",
    "translated_answers = [translator.translate(a, src='en', dest='vi').text for a in answer]"
   ]
  },
  {
   "cell_type": "code",
   "execution_count": 4,
   "metadata": {
    "execution": {
     "iopub.execute_input": "2025-01-04T02:05:41.066330Z",
     "iopub.status.busy": "2025-01-04T02:05:41.065829Z",
     "iopub.status.idle": "2025-01-04T02:11:27.710081Z",
     "shell.execute_reply": "2025-01-04T02:11:27.709351Z",
     "shell.execute_reply.started": "2025-01-04T02:05:41.066305Z"
    },
    "trusted": true
   },
   "outputs": [
    {
     "data": {
      "application/vnd.jupyter.widget-view+json": {
       "model_id": "4027f409f6484f8d9c925e1d56b42109",
       "version_major": 2,
       "version_minor": 0
      },
      "text/plain": [
       "config.json:   0%|          | 0.00/709 [00:00<?, ?B/s]"
      ]
     },
     "metadata": {},
     "output_type": "display_data"
    },
    {
     "data": {
      "application/vnd.jupyter.widget-view+json": {
       "model_id": "bd11b58deea641068cef7fc3a9d305ed",
       "version_major": 2,
       "version_minor": 0
      },
      "text/plain": [
       "model.safetensors.index.json:   0%|          | 0.00/23.9k [00:00<?, ?B/s]"
      ]
     },
     "metadata": {},
     "output_type": "display_data"
    },
    {
     "data": {
      "application/vnd.jupyter.widget-view+json": {
       "model_id": "89c59d2f3d754639a883a49b510c5877",
       "version_major": 2,
       "version_minor": 0
      },
      "text/plain": [
       "Downloading shards:   0%|          | 0/3 [00:00<?, ?it/s]"
      ]
     },
     "metadata": {},
     "output_type": "display_data"
    },
    {
     "data": {
      "application/vnd.jupyter.widget-view+json": {
       "model_id": "5bc9171292294c73a3e337c0954ccbaa",
       "version_major": 2,
       "version_minor": 0
      },
      "text/plain": [
       "model-00001-of-00003.safetensors:   0%|          | 0.00/4.97G [00:00<?, ?B/s]"
      ]
     },
     "metadata": {},
     "output_type": "display_data"
    },
    {
     "data": {
      "application/vnd.jupyter.widget-view+json": {
       "model_id": "56c0ecf6baa640e4bd0924d2a8d761b2",
       "version_major": 2,
       "version_minor": 0
      },
      "text/plain": [
       "model-00002-of-00003.safetensors:   0%|          | 0.00/4.95G [00:00<?, ?B/s]"
      ]
     },
     "metadata": {},
     "output_type": "display_data"
    },
    {
     "data": {
      "application/vnd.jupyter.widget-view+json": {
       "model_id": "da06e75a70264364bf07ce943c5409ea",
       "version_major": 2,
       "version_minor": 0
      },
      "text/plain": [
       "model-00003-of-00003.safetensors:   0%|          | 0.00/3.80G [00:00<?, ?B/s]"
      ]
     },
     "metadata": {},
     "output_type": "display_data"
    },
    {
     "data": {
      "application/vnd.jupyter.widget-view+json": {
       "model_id": "ffe3001b2b4c41678b539ff48d73ad5b",
       "version_major": 2,
       "version_minor": 0
      },
      "text/plain": [
       "Loading checkpoint shards:   0%|          | 0/3 [00:00<?, ?it/s]"
      ]
     },
     "metadata": {},
     "output_type": "display_data"
    },
    {
     "data": {
      "application/vnd.jupyter.widget-view+json": {
       "model_id": "87933682497e46df850bde119c385403",
       "version_major": 2,
       "version_minor": 0
      },
      "text/plain": [
       "generation_config.json:   0%|          | 0.00/314 [00:00<?, ?B/s]"
      ]
     },
     "metadata": {},
     "output_type": "display_data"
    },
    {
     "data": {
      "application/vnd.jupyter.widget-view+json": {
       "model_id": "aee322ca657e462b96fc678be0260823",
       "version_major": 2,
       "version_minor": 0
      },
      "text/plain": [
       "tokenizer_config.json:   0%|          | 0.00/1.74k [00:00<?, ?B/s]"
      ]
     },
     "metadata": {},
     "output_type": "display_data"
    },
    {
     "data": {
      "application/vnd.jupyter.widget-view+json": {
       "model_id": "150f1115096c493289719897d4b921ee",
       "version_major": 2,
       "version_minor": 0
      },
      "text/plain": [
       "tokenizer.json:   0%|          | 0.00/2.67M [00:00<?, ?B/s]"
      ]
     },
     "metadata": {},
     "output_type": "display_data"
    },
    {
     "data": {
      "application/vnd.jupyter.widget-view+json": {
       "model_id": "13d992ca20df48a3b137aecf89a1b4a5",
       "version_major": 2,
       "version_minor": 0
      },
      "text/plain": [
       "special_tokens_map.json:   0%|          | 0.00/557 [00:00<?, ?B/s]"
      ]
     },
     "metadata": {},
     "output_type": "display_data"
    }
   ],
   "source": [
    "MODEL_NAME = \"vilm/vinallama-7b-chat\"\n",
    "\n",
    "bnb_config = BitsAndBytesConfig(\n",
    "    load_in_4bit = True,\n",
    "    bnb_4bit_use_double_quant = True,\n",
    "    bnb_4bit_quant_type = \"nf4\",\n",
    "    bnb_4bit_compute_dtype = torch.bfloat16\n",
    ")\n",
    "\n",
    "model = AutoModelForCausalLM.from_pretrained(\n",
    "    MODEL_NAME,\n",
    "    device_map = \"auto\",\n",
    "    trust_remote_code = True,\n",
    "    quantization_config = bnb_config\n",
    ")\n",
    "tokenizer = AutoTokenizer.from_pretrained(MODEL_NAME)\n",
    "tokenizer.pad_token = tokenizer.eos_token\n",
    "\n",
    "generation_config = model.generation_config\n",
    "generation_config.max_new_tokens = 200\n",
    "generation_config.temperature = 0.7\n",
    "generation_config.top_p = 0.7\n",
    "generation_config.num_return_sequences = 1\n",
    "generation_config.pad_token_id = tokenizer.eos_token_id\n",
    "generation_config.eos_token_id = tokenizer.eos_token_id"
   ]
  },
  {
   "cell_type": "code",
   "execution_count": 15,
   "metadata": {
    "execution": {
     "iopub.execute_input": "2025-01-04T02:19:05.189150Z",
     "iopub.status.busy": "2025-01-04T02:19:05.188730Z",
     "iopub.status.idle": "2025-01-04T02:19:05.194443Z",
     "shell.execute_reply": "2025-01-04T02:19:05.193404Z",
     "shell.execute_reply.started": "2025-01-04T02:19:05.189121Z"
    },
    "trusted": true
   },
   "outputs": [],
   "source": [
    "# Chatbot\n",
    "def generate_response(query: str):\n",
    "    device = \"cuda\" if torch.cuda.is_available() else \"cpu\"\n",
    "    encoding = tokenizer(query, return_tensors = \"pt\").to(device)\n",
    "    with torch.inference_mode():\n",
    "        outputs = model.generate(\n",
    "            input_ids = encoding.input_ids,\n",
    "            attention_mask = encoding.attention_mask,\n",
    "            generation_config = generation_config,\n",
    "            max_new_tokens = 150\n",
    "        )\n",
    "    \n",
    "    return tokenizer.decode(outputs[0], skip_special_tokens = True).split(\"<|im_start|> assistant\")[0].split(query)[1]"
   ]
  },
  {
   "cell_type": "code",
   "execution_count": 19,
   "metadata": {
    "execution": {
     "iopub.execute_input": "2025-01-04T02:36:51.001246Z",
     "iopub.status.busy": "2025-01-04T02:36:51.000843Z",
     "iopub.status.idle": "2025-01-04T05:03:33.284369Z",
     "shell.execute_reply": "2025-01-04T05:03:33.283645Z",
     "shell.execute_reply.started": "2025-01-04T02:36:51.001218Z"
    },
    "trusted": true
   },
   "outputs": [
    {
     "name": "stderr",
     "output_type": "stream",
     "text": [
      "100%|██████████| 1000/1000 [2:26:42<00:00,  8.80s/it] \n"
     ]
    },
    {
     "data": {
      "image/png": "[encoded data removed]",
      "text/plain": [
       "<Figure size 1200x600 with 1 Axes>"
      ]
     },
     "metadata": {},
     "output_type": "display_data"
    },
    {
     "name": "stdout",
     "output_type": "stream",
     "text": [
      "Average ROUGE-1: 0.3336277738464415\n",
      "Average ROUGE-2: 0.14667775549937062\n",
      "Average ROUGE-L: 0.2995828122122967\n"
     ]
    }
   ],
   "source": [
    "from rouge import Rouge\n",
    "from tqdm import tqdm\n",
    "import matplotlib.pyplot as plt\n",
    "import numpy as np\n",
    "\n",
    "rouge = Rouge()\n",
    "\n",
    "# Initialize lists to store scores\n",
    "rouge_1 = []\n",
    "rouge_2 = []\n",
    "rouge_l = []\n",
    "\n",
    "# Generate responses and calculate ROUGE scores iteratively\n",
    "for question, reference in tqdm(zip(translated_questions, translated_answers), total=len(translated_questions)):\n",
    "    model_response = generate_response(question)  # Predict response\n",
    "    if model_response == \"\":\n",
    "        rouge_1.append(0)\n",
    "        rouge_2.append(0)\n",
    "        rouge_l.append(0)\n",
    "        continue\n",
    "    score = rouge.get_scores(model_response, reference, avg=True)  # Calculate ROUGE\n",
    "\n",
    "    # Extract scores\n",
    "    rouge_1.append(score['rouge-1']['f'])\n",
    "    rouge_2.append(score['rouge-2']['f'])\n",
    "    rouge_l.append(score['rouge-l']['f'])\n",
    "\n",
    "# Visualize Results\n",
    "plt.figure(figsize=(12, 6))\n",
    "plt.boxplot([rouge_1, rouge_2, rouge_l], labels=[\"ROUGE-1\", \"ROUGE-2\", \"ROUGE-L\"])\n",
    "plt.title(\"ROUGE Score Distribution\")\n",
    "plt.ylabel(\"F1 Score\")\n",
    "plt.show()\n",
    "\n",
    "# Print average scores\n",
    "print(\"Average ROUGE-1:\", np.mean(rouge_1))\n",
    "print(\"Average ROUGE-2:\", np.mean(rouge_2))\n",
    "print(\"Average ROUGE-L:\", np.mean(rouge_l))\n"
   ]
  },
  {
   "cell_type": "code",
   "execution_count": null,
   "metadata": {
    "execution": {
     "iopub.execute_input": "2025-01-04T05:07:27.049213Z",
     "iopub.status.busy": "2025-01-04T05:07:27.048802Z",
     "iopub.status.idle": "2025-01-04T05:07:50.968672Z",
     "shell.execute_reply": "2025-01-04T05:07:50.967745Z",
     "shell.execute_reply.started": "2025-01-04T05:07:27.049179Z"
    },
    "trusted": true
   },
   "outputs": [
    {
     "data": {
      "application/vnd.jupyter.widget-view+json": {
       "model_id": "671cd04d7bce4338930aadcf04b80197",
       "version_major": 2,
       "version_minor": 0
      },
      "text/plain": [
       "adapter_config.json:   0%|          | 0.00/796 [00:00<?, ?B/s]"
      ]
     },
     "metadata": {},
     "output_type": "display_data"
    },
    {
     "data": {
      "application/vnd.jupyter.widget-view+json": {
       "model_id": "8f16403118f548e58863994e33040ed5",
       "version_major": 2,
       "version_minor": 0
      },
      "text/plain": [
       "Loading checkpoint shards:   0%|          | 0/3 [00:00<?, ?it/s]"
      ]
     },
     "metadata": {},
     "output_type": "display_data"
    },
    {
     "data": {
      "application/vnd.jupyter.widget-view+json": {
       "model_id": "a066a6c1f3da411fa89ba78ff12326e1",
       "version_major": 2,
       "version_minor": 0
      },
      "text/plain": [
       "adapter_model.safetensors:   0%|          | 0.00/160M [00:00<?, ?B/s]"
      ]
     },
     "metadata": {},
     "output_type": "display_data"
    },
    {
     "data": {
      "application/vnd.jupyter.widget-view+json": {
       "model_id": "187a038c9a524c569b55fec5d81dc495",
       "version_major": 2,
       "version_minor": 0
      },
      "text/plain": [
       "tokenizer_config.json:   0%|          | 0.00/1.82k [00:00<?, ?B/s]"
      ]
     },
     "metadata": {},
     "output_type": "display_data"
    },
    {
     "data": {
      "application/vnd.jupyter.widget-view+json": {
       "model_id": "a4ec4c8c613a4338922a4be7516ac273",
       "version_major": 2,
       "version_minor": 0
      },
      "text/plain": [
       "tokenizer.json:   0%|          | 0.00/2.67M [00:00<?, ?B/s]"
      ]
     },
     "metadata": {},
     "output_type": "display_data"
    },
    {
     "data": {
      "application/vnd.jupyter.widget-view+json": {
       "model_id": "a865d3740f1a4d1fb0b882f9a5bbc47a",
       "version_major": 2,
       "version_minor": 0
      },
      "text/plain": [
       "special_tokens_map.json:   0%|          | 0.00/449 [00:00<?, ?B/s]"
      ]
     },
     "metadata": {},
     "output_type": "display_data"
    },
    {
     "data": {
      "application/vnd.jupyter.widget-view+json": {
       "model_id": "a8373413a09e4b99bb377e1ae6cf5126",
       "version_major": 2,
       "version_minor": 0
      },
      "text/plain": [
       "generation_config.json:   0%|          | 0.00/322 [00:00<?, ?B/s]"
      ]
     },
     "metadata": {},
     "output_type": "display_data"
    }
   ],
   "source": [
    "REPO_ACCESS_TOKEN = os.getenv(\"REPO_ACCESS_TOKEN\")\n",
    "MODEL_NAME = \"Namronaldo2004/math-vinallama-7b-chat\"\n",
    "\n",
    "bnb_config = BitsAndBytesConfig(\n",
    "    load_in_4bit = True,\n",
    "    bnb_4bit_use_double_quant = True,\n",
    "    bnb_4bit_quant_type = \"nf4\",\n",
    "    bnb_4bit_compute_dtype = torch.bfloat16\n",
    ")\n",
    "\n",
    "model = AutoModelForCausalLM.from_pretrained(\n",
    "    MODEL_NAME,\n",
    "    device_map = \"auto\",\n",
    "    trust_remote_code = True,\n",
    "    quantization_config = bnb_config\n",
    ")\n",
    "tokenizer = AutoTokenizer.from_pretrained(MODEL_NAME)\n",
    "tokenizer.pad_token = tokenizer.eos_token\n",
    "\n",
    "generation_config = GenerationConfig.from_pretrained(MODEL_NAME)\n",
    "model.generation_config = generation_config"
   ]
  },
  {
   "cell_type": "code",
   "execution_count": 21,
   "metadata": {
    "execution": {
     "iopub.execute_input": "2025-01-04T05:08:06.719003Z",
     "iopub.status.busy": "2025-01-04T05:08:06.718663Z",
     "iopub.status.idle": "2025-01-04T05:08:06.724444Z",
     "shell.execute_reply": "2025-01-04T05:08:06.723548Z",
     "shell.execute_reply.started": "2025-01-04T05:08:06.718976Z"
    },
    "trusted": true
   },
   "outputs": [],
   "source": [
    "# Chatbot\n",
    "def generate_response(query: str):\n",
    "    prompt = f\"\"\"\n",
    "    <|im_start|>system\n",
    "    Bạn là một chuyên gia về toán. Khi nhận được yêu cầu từ người dùng, dựa vào những kiến thức mà bạn đã có, hãy trả lời người dùng một cách nhất quán, đầy đủ nhưng tránh dư thừa thông tin, và hơn hết nội dung câu trả lời phải chính xác nhất\n",
    "    <|im_end|>\n",
    "    <|im_start|>user\n",
    "    ### Yêu cầu:\n",
    "    {query}\n",
    "    ### Câu trả lời:\n",
    "    <|im_end|>\n",
    "    <|im_start|>assistant\n",
    "    \"\"\".strip()\n",
    "\n",
    "    device = \"cuda\" if torch.cuda.is_available() else \"cpu\"\n",
    "    encoding = tokenizer(prompt, return_tensors = \"pt\").to(device)\n",
    "    with torch.inference_mode():\n",
    "        outputs = model.generate(\n",
    "            input_ids = encoding.input_ids,\n",
    "            attention_mask = encoding.attention_mask,\n",
    "            generation_config = generation_config,\n",
    "            max_new_tokens = 150\n",
    "        )\n",
    "    \n",
    "    return tokenizer.decode(outputs[0], skip_special_tokens = True).split(\"<|im_start|> assistant\")[1].strip()"
   ]
  },
  {
   "cell_type": "code",
   "execution_count": 22,
   "metadata": {
    "execution": {
     "iopub.execute_input": "2025-01-04T05:08:09.675612Z",
     "iopub.status.busy": "2025-01-04T05:08:09.675293Z",
     "iopub.status.idle": "2025-01-04T10:48:56.918555Z",
     "shell.execute_reply": "2025-01-04T10:48:56.917513Z",
     "shell.execute_reply.started": "2025-01-04T05:08:09.675588Z"
    },
    "trusted": true
   },
   "outputs": [
    {
     "name": "stderr",
     "output_type": "stream",
     "text": [
      "100%|██████████| 1000/1000 [5:40:47<00:00, 20.45s/it] \n"
     ]
    },
    {
     "data": {
      "image/png": "[encoded data removed]",
      "text/plain": [
       "<Figure size 1200x600 with 1 Axes>"
      ]
     },
     "metadata": {},
     "output_type": "display_data"
    },
    {
     "name": "stdout",
     "output_type": "stream",
     "text": [
      "Average ROUGE-1: 0.5570828761313785\n",
      "Average ROUGE-2: 0.30201642571343085\n",
      "Average ROUGE-L: 0.5114550544613491\n"
     ]
    }
   ],
   "source": [
    "# Initialize lists to store scores\n",
    "rouge_1 = []\n",
    "rouge_2 = []\n",
    "rouge_l = []\n",
    "\n",
    "# Generate responses and calculate ROUGE scores iteratively\n",
    "for question, reference in tqdm(zip(translated_questions, translated_answers), total=len(translated_questions)):\n",
    "    model_response = generate_response(question)  # Predict response\n",
    "    score = rouge.get_scores(model_response, reference, avg=True)  # Calculate ROUGE\n",
    "\n",
    "    # Extract scores\n",
    "    rouge_1.append(score['rouge-1']['f'])\n",
    "    rouge_2.append(score['rouge-2']['f'])\n",
    "    rouge_l.append(score['rouge-l']['f'])\n",
    "\n",
    "# Visualize Results\n",
    "plt.figure(figsize=(12, 6))\n",
    "plt.boxplot([rouge_1, rouge_2, rouge_l], labels=[\"ROUGE-1\", \"ROUGE-2\", \"ROUGE-L\"])\n",
    "plt.title(\"ROUGE Score Distribution\")\n",
    "plt.ylabel(\"F1 Score\")\n",
    "plt.show()\n",
    "\n",
    "# Print average scores\n",
    "print(\"Average ROUGE-1:\", np.mean(rouge_1))\n",
    "print(\"Average ROUGE-2:\", np.mean(rouge_2))\n",
    "print(\"Average ROUGE-L:\", np.mean(rouge_l))\n"
   ]
  }
 ],
 "metadata": {
  "kaggle": {
   "accelerator": "nvidiaTeslaT4",
   "dataSources": [],
   "isGpuEnabled": true,
   "isInternetEnabled": true,
   "language": "python",
   "sourceType": "notebook"
  },
  "kernelspec": {
   "display_name": "Python 3",
   "language": "python",
   "name": "python3"
  },
  "language_info": {
   "codemirror_mode": {
    "name": "ipython",
    "version": 3
   },
   "file_extension": ".py",
   "mimetype": "text/x-python",
   "name": "python",
   "nbconvert_exporter": "python",
   "pygments_lexer": "ipython3",
   "version": "3.10.12"
  }
 },
 "nbformat": 4,
 "nbformat_minor": 4
}
